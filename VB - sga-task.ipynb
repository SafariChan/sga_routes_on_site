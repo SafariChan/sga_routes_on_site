{
 "cells": [
  {
   "cell_type": "markdown",
   "metadata": {},
   "source": [
    "# User routes on the site\n",
    "## Description\n",
    "**Clickstream** is a sequence of user actions on a website. It allows you to understand how users interact with the site. In this task, you need to find the most frequent custom routes.\n",
    "\n",
    "## Input data\n",
    "Input data is а table with clickstream data in file `hdfs:/data/clickstream.csv`.\n",
    "\n",
    "### Table structure\n",
    "* `user_id (int)` - Unique user identifier.\n",
    "* `session_id (int)` - Unique identifier for the user session. The user's session lasts until the identifier changes.\n",
    "* `event_type (string)` - Event type from the list:\n",
    "    * **page** - visit to the page\n",
    "    * **event** - any action on the page\n",
    "    * <b>&lt;custom&gt;</b> - string with any other type\n",
    "* `event_type (string)` - Page on the site.\n",
    "* `timestamp (int)` - Unix-timestamp of action.\n",
    "\n",
    "### Browser errors\n",
    "Errors can sometimes occur in the user's browser - after such an error appears, we can no longer trust the data of this session and all the following lines after the error or at the same time with it are considered corrupted and **should not be counted** in statistics.\n",
    "\n",
    "When an error occurs on the page, a random string containing the word **error** will be written to the `event_type` field.\n",
    "\n",
    "### Sample of user session\n",
    "<pre>\n",
    "+-------+----------+------------+----------+----------+\n",
    "|user_id|session_id|  event_type|event_page| timestamp|\n",
    "+-------+----------+------------+----------+----------+\n",
    "|    562|       507|        page|      main|1620494781|\n",
    "|    562|       507|       event|      main|1620494788|\n",
    "|    562|       507|       event|      main|1620494798|\n",
    "|    562|       507|        page|    family|1620494820|\n",
    "|    562|       507|       event|    family|1620494828|\n",
    "|    562|       507|        page|      main|1620494848|\n",
    "|    562|       507|wNaxLlerrorU|      main|1620494865|\n",
    "|    562|       507|       event|      main|1620494873|\n",
    "|    562|       507|        page|      news|1620494875|\n",
    "|    562|       507|        page|   tariffs|1620494876|\n",
    "|    562|       507|       event|   tariffs|1620494884|\n",
    "|    562|       514|        page|      main|1620728918|\n",
    "|    562|       514|       event|      main|1620729174|\n",
    "|    562|       514|        page|   archive|1620729674|\n",
    "|    562|       514|        page|     bonus|1620729797|\n",
    "|    562|       514|        page|   tariffs|1620731090|\n",
    "|    562|       514|       event|   tariffs|1620731187|\n",
    "+-------+----------+------------+----------+----------+\n",
    "</pre>\n",
    "\n",
    "#### Correct user routes for a given user:\n",
    "* **Session 507**: main-family-main\n",
    "* **Session 514**: main-archive-bonus-tariffs\n",
    "\n",
    "Route elements are ordered by the time they appear in the clickstream, from earliest to latest.\n",
    "\n",
    "The route must be accounted for completely before the end of the session or an error in the session.\n",
    "\n",
    "## Task\n",
    "You need to use the Spark SQL, Spark RDD and Spark DF interfaces to create a solution file, the lines of which contain **the 30 most frequent user routes** on the site.\n",
    "\n",
    "Each line of the file should contain the `route` and `count` values **separated by tabs**, where:\n",
    "* `route` - route on the site, consisting of pages separated by \"-\".\n",
    "* `count` - the number of user sessions in which this route was.\n",
    "\n",
    "The lines must be **ordered in descending order** of the `count` field.\n",
    "\n",
    "## Criteria\n",
    "You can get maximum of 3.5 points (final grade) for this assignment, depedning on the number of interface you manage to leverage. The criteria are as follows:\n",
    "\n",
    "* 0.5 points – Spark SQL solution with 1 query\n",
    "* 0.5 points – Spark SQL solution with <=2 queries\n",
    "* 0.5 points – Spark RDD solution\n",
    "* 0.5 points – Spark DF solution\n",
    "* 0.5 points – your solution algorithm is relatively optimized, i.e.: no O^2 or O^3 complexities; appropriate object usage; no data leaks etc. This is evaluated by staff.\n",
    "* 1 point – 1 on 1 screening session. During this session staff member can ask you questions regarding your solution logic, framework usage, questionable parts of your code etc. If your code is clean enough, the staff member can just ask you to solve a theoretical problem connected to Spark.\n"
   ]
  },
  {
   "cell_type": "code",
   "execution_count": 1,
   "metadata": {
    "tags": []
   },
   "outputs": [],
   "source": [
    "import findspark\n",
    "findspark.init()\n",
    "\n",
    "import pyspark\n",
    "from pyspark.sql import SparkSession, functions as F, Window\n",
    "import json"
   ]
  },
  {
   "cell_type": "code",
   "execution_count": 2,
   "metadata": {
    "tags": []
   },
   "outputs": [
    {
     "name": "stderr",
     "output_type": "stream",
     "text": [
      "Setting default log level to \"WARN\".\n",
      "To adjust logging level use sc.setLogLevel(newLevel). For SparkR, use setLogLevel(newLevel).\n",
      "2024-10-27 18:08:57,310 WARN yarn.Client: Neither spark.yarn.jars nor spark.yarn.archive is set, falling back to uploading libraries under SPARK_HOME.\n"
     ]
    }
   ],
   "source": [
    "# Initialize Spark session\n",
    "se = SparkSession.builder.appName('clickstream').getOrCreate()"
   ]
  },
  {
   "cell_type": "code",
   "execution_count": 3,
   "metadata": {
    "tags": []
   },
   "outputs": [
    {
     "name": "stderr",
     "output_type": "stream",
     "text": [
      "                                                                                \r"
     ]
    }
   ],
   "source": [
    "# Step 1: Load the CSV into a DataFrame\n",
    "clickstream_df = se.read.csv(\"hdfs:///data/clickstream.csv\", sep='\\t', header=True)"
   ]
  },
  {
   "cell_type": "markdown",
   "metadata": {},
   "source": [
    "Spark SQL"
   ]
  },
  {
   "cell_type": "code",
   "execution_count": 4,
   "metadata": {
    "tags": []
   },
   "outputs": [
    {
     "name": "stderr",
     "output_type": "stream",
     "text": [
      "[Stage 1:============================================>              (6 + 2) / 8]\r"
     ]
    },
    {
     "name": "stdout",
     "output_type": "stream",
     "text": [
      "+-------+----------+----------+----------+\n",
      "|user_id|session_id|event_page| timestamp|\n",
      "+-------+----------+----------+----------+\n",
      "|      0|       874|      main|1696371064|\n",
      "|      0|       874|      main|1696372696|\n",
      "|      0|       874|      main|1696373564|\n",
      "|      0|       874|    rabota|1696374894|\n",
      "|      0|       874|    rabota|1696377393|\n",
      "|      0|       874|    online|1696378229|\n",
      "|      0|       874|    online|1696378928|\n",
      "|      0|       879|      main|1696768416|\n",
      "|      0|       879|    online|1696768738|\n",
      "|      0|       879|   tariffs|1696768973|\n",
      "+-------+----------+----------+----------+\n",
      "only showing top 10 rows\n",
      "\n"
     ]
    },
    {
     "name": "stderr",
     "output_type": "stream",
     "text": [
      "                                                                                \r"
     ]
    }
   ],
   "source": [
    "# Step 2: Clean data using Spark SQL (remove rows where event_type contains 'error')\n",
    "clickstream_df.createOrReplaceTempView(\"clickstream\")\n",
    "\n",
    "cleaned_data_sql = se.sql(\"\"\"\n",
    "    SELECT user_id, session_id, event_page, timestamp\n",
    "    FROM clickstream\n",
    "    WHERE event_type NOT LIKE '%error%'\n",
    "    ORDER BY user_id, session_id, timestamp\n",
    "\"\"\")\n",
    "\n",
    "cleaned_data_sql.show(10)"
   ]
  },
  {
   "cell_type": "markdown",
   "metadata": {
    "tags": []
   },
   "source": [
    "Spark DF"
   ]
  },
  {
   "cell_type": "code",
   "execution_count": 5,
   "metadata": {
    "tags": []
   },
   "outputs": [],
   "source": [
    "# Step 3: Remove consecutive duplicates and create routes (Spark DF)\n",
    "from pyspark.sql.types import ArrayType, StringType\n",
    "\n",
    "def remove_consecutive_duplicates(pages):\n",
    "    if not pages:\n",
    "        return pages\n",
    "    result = [pages[0]]\n",
    "    for i in range(1, len(pages)):\n",
    "        if pages[i] != pages[i-1]:\n",
    "            result.append(pages[i])\n",
    "    return result"
   ]
  },
  {
   "cell_type": "code",
   "execution_count": 7,
   "metadata": {
    "tags": []
   },
   "outputs": [],
   "source": [
    "remove_duplicates_udf = F.udf(remove_consecutive_duplicates, ArrayType(StringType()))"
   ]
  },
  {
   "cell_type": "code",
   "execution_count": 8,
   "metadata": {
    "tags": []
   },
   "outputs": [
    {
     "name": "stderr",
     "output_type": "stream",
     "text": [
      "[Stage 5:====================================================>    (12 + 1) / 13]\r"
     ]
    },
    {
     "name": "stdout",
     "output_type": "stream",
     "text": [
      "+-------+----------+-------------------------------------------------------------------------------------------------------------------------+\n",
      "|user_id|session_id|route                                                                                                                    |\n",
      "+-------+----------+-------------------------------------------------------------------------------------------------------------------------+\n",
      "|0      |888       |main                                                                                                                     |\n",
      "|1      |1026      |main                                                                                                                     |\n",
      "|10     |762       |main-internet-archive-bonus-internet-main-rabota-main-archive-bonus-news-archive                                         |\n",
      "|1000   |91        |main-archive-rabota-news-digital-internet-rabota                                                                         |\n",
      "|1001   |11        |main-bonus-internet-online                                                                                               |\n",
      "|1002   |285       |main-news-internet-rabota-bonus                                                                                          |\n",
      "|1002   |291       |main-archive-news-vklad-rabota                                                                                           |\n",
      "|1002   |315       |main                                                                                                                     |\n",
      "|1003   |563       |main-internet-main-rabota-vklad-online-news-internet-bonus-online-internet-tariffs-bonus-archive-news-rabota-vklad-rabota|\n",
      "|1003   |593       |main-internet-online-rabota-archive-internet                                                                             |\n",
      "+-------+----------+-------------------------------------------------------------------------------------------------------------------------+\n",
      "only showing top 10 rows\n",
      "\n"
     ]
    },
    {
     "name": "stderr",
     "output_type": "stream",
     "text": [
      "                                                                                \r"
     ]
    }
   ],
   "source": [
    "# Group by user_id and session_id, collect event_page as a list, remove consecutive duplicates, and create the route\n",
    "routes_df = cleaned_data_sql.groupBy(\"user_id\", \"session_id\") \\\n",
    "    .agg(F.collect_list(\"event_page\").alias(\"pages\")) \\\n",
    "    .withColumn(\"cleaned_pages\", remove_duplicates_udf(F.col(\"pages\"))) \\\n",
    "    .withColumn(\"route\", F.concat_ws(\"-\", \"cleaned_pages\"))\n",
    "\n",
    "routes_df.select(\"user_id\", \"session_id\", \"route\").show(10, truncate=False)"
   ]
  },
  {
   "cell_type": "markdown",
   "metadata": {},
   "source": [
    "Spark RDD"
   ]
  },
  {
   "cell_type": "code",
   "execution_count": 9,
   "metadata": {
    "tags": []
   },
   "outputs": [
    {
     "name": "stderr",
     "output_type": "stream",
     "text": [
      "                                                                                \r"
     ]
    }
   ],
   "source": [
    "# Step 4: Convert to RDD for counting\n",
    "routes_rdd = routes_df.select(\"route\").rdd.map(lambda row: row.route)\n",
    "\n",
    "# Count the occurrences of each route\n",
    "route_counts_rdd = routes_rdd.map(lambda route: (route, 1)) \\\n",
    "    .reduceByKey(lambda a, b: a + b)\n",
    "\n",
    "# Collect the top 30 most frequent routes\n",
    "top_routes_rdd = route_counts_rdd.takeOrdered(30, key=lambda x: -x[1])\n",
    "\n",
    "result_dict = {route: count for route, count in top_routes_rdd}"
   ]
  },
  {
   "cell_type": "code",
   "execution_count": 10,
   "metadata": {
    "tags": []
   },
   "outputs": [
    {
     "name": "stdout",
     "output_type": "stream",
     "text": [
      "{\n",
      "    \"main\": 6054,\n",
      "    \"main-archive\": 855,\n",
      "    \"main-rabota\": 809,\n",
      "    \"main-internet\": 700,\n",
      "    \"main-bonus\": 662,\n",
      "    \"main-news\": 601,\n",
      "    \"main-tariffs\": 519,\n",
      "    \"main-online\": 449,\n",
      "    \"main-vklad\": 412,\n",
      "    \"main-rabota-archive\": 137,\n",
      "    \"main-archive-rabota\": 136,\n",
      "    \"main-rabota-bonus\": 113,\n",
      "    \"main-bonus-archive\": 112,\n",
      "    \"main-news-rabota\": 109,\n",
      "    \"main-bonus-rabota\": 106,\n",
      "    \"main-internet-rabota\": 106,\n",
      "    \"main-internet-archive\": 104,\n",
      "    \"main-rabota-news\": 104,\n",
      "    \"main-archive-news\": 103,\n",
      "    \"main-archive-internet\": 101,\n",
      "    \"main-archive-bonus\": 100,\n",
      "    \"main-news-archive\": 95,\n",
      "    \"main-rabota-internet\": 92,\n",
      "    \"main-tariffs-internet\": 89,\n",
      "    \"main-internet-bonus\": 86,\n",
      "    \"main-internet-news\": 81,\n",
      "    \"main-news-bonus\": 81,\n",
      "    \"main-rabota-main\": 79,\n",
      "    \"main-news-internet\": 78,\n",
      "    \"main-archive-tariffs\": 77\n",
      "}\n"
     ]
    }
   ],
   "source": [
    "#Step 5: Print results\n",
    "with open('result.json', 'w') as json_file:\n",
    "    json.dump(result_dict, json_file, indent=4)\n",
    "\n",
    "# Display the result for verification (optional)\n",
    "print(json.dumps(result_dict, indent=4))"
   ]
  },
  {
   "cell_type": "code",
   "execution_count": null,
   "metadata": {},
   "outputs": [],
   "source": []
  }
 ],
 "metadata": {
  "coursera": {
   "schema_names": [
    "week-4-spark-homework"
   ]
  },
  "kernelspec": {
   "display_name": "Python 3 (ipykernel)",
   "language": "python",
   "name": "python3"
  },
  "language_info": {
   "codemirror_mode": {
    "name": "ipython",
    "version": 3
   },
   "file_extension": ".py",
   "mimetype": "text/x-python",
   "name": "python",
   "nbconvert_exporter": "python",
   "pygments_lexer": "ipython3",
   "version": "3.10.9"
  },
  "vscode": {
   "interpreter": {
    "hash": "31f2aee4e71d21fbe5cf8b01ff0e069b9275f58929596ceb00d14d90e3e16cd6"
   }
  }
 },
 "nbformat": 4,
 "nbformat_minor": 4
}
